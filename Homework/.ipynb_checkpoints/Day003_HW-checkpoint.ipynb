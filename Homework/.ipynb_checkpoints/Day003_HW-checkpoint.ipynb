{
 "cells": [
  {
   "cell_type": "markdown",
   "metadata": {},
   "source": [
    "# Python 下載XML檔案與解析\n",
    "\n",
    "\n",
    "* 了解 xml 檔案格式與內容\n",
    "* 能夠利用套件存取 xml 格式的檔案\n"
   ]
  },
  {
   "cell_type": "markdown",
   "metadata": {},
   "source": [
    "## 作業目標\n",
    "\n",
    "* 比較一下範例檔案中的「File I/O」與「xmltodict」讀出來的內容有什麼差異\n",
    "\n",
    "* 根據範例檔案的結果：\n",
    "    1. 請問高雄市有多少地區有溫度資料？\n",
    "    2. 請取出每一個地區所記錄的第一個時間點跟溫度\n",
    "    3. 請取出第一個地區所記錄的每一個時間點跟溫度"
   ]
  },
  {
   "cell_type": "markdown",
   "metadata": {},
   "source": [
    "### 比較一下範例檔案中的「File I/O」與「xmltodict」讀出來的內容有什麼差異\n"
   ]
  },
  {
   "cell_type": "code",
   "execution_count": null,
   "metadata": {},
   "outputs": [],
   "source": [
    "可讀性較高"
   ]
  },
  {
   "cell_type": "markdown",
   "metadata": {},
   "source": [
    "### 根據範例檔案的結果：\n",
    "\n",
    "1. 請問高雄市有多少地區有溫度資料？\n",
    "2. 請取出每一個地區所記錄的第一個時間點跟溫度\n",
    "3. 請取出第一個地區所記錄的每一個時間點跟溫度"
   ]
  },
  {
   "cell_type": "code",
   "execution_count": 18,
   "metadata": {},
   "outputs": [
    {
     "name": "stdout",
     "output_type": "stream",
     "text": [
      "12\n"
     ]
    }
   ],
   "source": [
    "# 1. 請問高雄市有多少地區有溫度資料？\n",
    "import xmltodict\n",
    "with open('./data/example/63_72hr_CH.xml') as fd:\n",
    "    doc = dict(xmltodict.parse(fd.read()))\n",
    "\n",
    "\n",
    "locations = doc['cwbopendata']['dataset']['locations']['location']\n",
    "print(len(locations))"
   ]
  },
  {
   "cell_type": "code",
   "execution_count": 19,
   "metadata": {},
   "outputs": [
    {
     "name": "stdout",
     "output_type": "stream",
     "text": [
      "松山區\n",
      "2019-06-28T12:00:00+08:00\n",
      "OrderedDict([('value', '35'), ('measures', '攝氏度')])\n",
      "信義區\n",
      "2019-06-28T12:00:00+08:00\n",
      "OrderedDict([('value', '36'), ('measures', '攝氏度')])\n",
      "大安區\n",
      "2019-06-28T12:00:00+08:00\n",
      "OrderedDict([('value', '36'), ('measures', '攝氏度')])\n",
      "中山區\n",
      "2019-06-28T12:00:00+08:00\n",
      "OrderedDict([('value', '36'), ('measures', '攝氏度')])\n",
      "中正區\n",
      "2019-06-28T12:00:00+08:00\n",
      "OrderedDict([('value', '36'), ('measures', '攝氏度')])\n",
      "大同區\n",
      "2019-06-28T12:00:00+08:00\n",
      "OrderedDict([('value', '35'), ('measures', '攝氏度')])\n",
      "萬華區\n",
      "2019-06-28T12:00:00+08:00\n",
      "OrderedDict([('value', '36'), ('measures', '攝氏度')])\n",
      "文山區\n",
      "2019-06-28T12:00:00+08:00\n",
      "OrderedDict([('value', '35'), ('measures', '攝氏度')])\n",
      "南港區\n",
      "2019-06-28T12:00:00+08:00\n",
      "OrderedDict([('value', '35'), ('measures', '攝氏度')])\n",
      "內湖區\n",
      "2019-06-28T12:00:00+08:00\n",
      "OrderedDict([('value', '35'), ('measures', '攝氏度')])\n",
      "士林區\n",
      "2019-06-28T12:00:00+08:00\n",
      "OrderedDict([('value', '35'), ('measures', '攝氏度')])\n",
      "北投區\n",
      "2019-06-28T12:00:00+08:00\n",
      "OrderedDict([('value', '35'), ('measures', '攝氏度')])\n"
     ]
    }
   ],
   "source": [
    "# 2. 請取出每一個地區所記錄的第一個時間點跟溫度\n",
    "\n",
    "for location in locations:\n",
    "    print(location['locationName'])\n",
    "    print(location['weatherElement'][0]['time'][0]['dataTime'] )\n",
    "    print(location['weatherElement'][0]['time'][0]['elementValue'] )"
   ]
  },
  {
   "cell_type": "code",
   "execution_count": 20,
   "metadata": {},
   "outputs": [
    {
     "name": "stdout",
     "output_type": "stream",
     "text": [
      "松山區\n",
      "2019-06-28T12:00:00+08:00\n",
      "OrderedDict([('value', '35'), ('measures', '攝氏度')])\n",
      "2019-06-28T15:00:00+08:00\n",
      "OrderedDict([('value', '34'), ('measures', '攝氏度')])\n",
      "2019-06-28T18:00:00+08:00\n",
      "OrderedDict([('value', '32'), ('measures', '攝氏度')])\n",
      "2019-06-28T21:00:00+08:00\n",
      "OrderedDict([('value', '30'), ('measures', '攝氏度')])\n",
      "2019-06-29T00:00:00+08:00\n",
      "OrderedDict([('value', '29'), ('measures', '攝氏度')])\n",
      "2019-06-29T03:00:00+08:00\n",
      "OrderedDict([('value', '28'), ('measures', '攝氏度')])\n",
      "2019-06-29T06:00:00+08:00\n",
      "OrderedDict([('value', '28'), ('measures', '攝氏度')])\n",
      "2019-06-29T09:00:00+08:00\n",
      "OrderedDict([('value', '32'), ('measures', '攝氏度')])\n",
      "2019-06-29T12:00:00+08:00\n",
      "OrderedDict([('value', '35'), ('measures', '攝氏度')])\n",
      "2019-06-29T15:00:00+08:00\n",
      "OrderedDict([('value', '34'), ('measures', '攝氏度')])\n",
      "2019-06-29T18:00:00+08:00\n",
      "OrderedDict([('value', '31'), ('measures', '攝氏度')])\n",
      "2019-06-29T21:00:00+08:00\n",
      "OrderedDict([('value', '30'), ('measures', '攝氏度')])\n",
      "2019-06-30T00:00:00+08:00\n",
      "OrderedDict([('value', '29'), ('measures', '攝氏度')])\n",
      "2019-06-30T03:00:00+08:00\n",
      "OrderedDict([('value', '28'), ('measures', '攝氏度')])\n",
      "2019-06-30T06:00:00+08:00\n",
      "OrderedDict([('value', '28'), ('measures', '攝氏度')])\n",
      "2019-06-30T09:00:00+08:00\n",
      "OrderedDict([('value', '32'), ('measures', '攝氏度')])\n",
      "2019-06-30T12:00:00+08:00\n",
      "OrderedDict([('value', '35'), ('measures', '攝氏度')])\n",
      "2019-06-30T15:00:00+08:00\n",
      "OrderedDict([('value', '34'), ('measures', '攝氏度')])\n",
      "2019-06-30T18:00:00+08:00\n",
      "OrderedDict([('value', '31'), ('measures', '攝氏度')])\n",
      "2019-06-30T21:00:00+08:00\n",
      "OrderedDict([('value', '30'), ('measures', '攝氏度')])\n",
      "2019-07-01T00:00:00+08:00\n",
      "OrderedDict([('value', '29'), ('measures', '攝氏度')])\n",
      "2019-07-01T03:00:00+08:00\n",
      "OrderedDict([('value', '28'), ('measures', '攝氏度')])\n",
      "2019-07-01T06:00:00+08:00\n",
      "OrderedDict([('value', '28'), ('measures', '攝氏度')])\n",
      "2019-07-01T09:00:00+08:00\n",
      "OrderedDict([('value', '31'), ('measures', '攝氏度')])\n"
     ]
    }
   ],
   "source": [
    "# 3. 請取出第一個地區所記錄的每一個時間點跟溫度\n",
    "\n",
    "location = locations[0]\n",
    "print(location['locationName'])\n",
    "for l in location['weatherElement'][0]['time']:\n",
    "    print(l['dataTime'] )\n",
    "    print(l['elementValue'] )"
   ]
  },
  {
   "cell_type": "code",
   "execution_count": null,
   "metadata": {},
   "outputs": [],
   "source": []
  }
 ],
 "metadata": {
  "kernelspec": {
   "display_name": "Python 3",
   "language": "python",
   "name": "python3"
  },
  "language_info": {
   "codemirror_mode": {
    "name": "ipython",
    "version": 3
   },
   "file_extension": ".py",
   "mimetype": "text/x-python",
   "name": "python",
   "nbconvert_exporter": "python",
   "pygments_lexer": "ipython3",
   "version": "3.7.4"
  }
 },
 "nbformat": 4,
 "nbformat_minor": 2
}
